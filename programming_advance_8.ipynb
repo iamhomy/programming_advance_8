{
 "cells": [
  {
   "cell_type": "code",
   "execution_count": null,
   "metadata": {},
   "outputs": [],
   "source": [
    "#1a)\n",
    "def vowel_links(string):\n",
    "    vowels = [\"a\",\"e\",\"i\",\"o\",\"u\"]\n",
    "    k = list(string.split(\" \"))\n",
    "    for i in range(len(k)-1):\n",
    "        if k[i][-1] in vowels and k[i+1][-1] in vowels:\n",
    "            return True\n",
    "    \n",
    "    return False\n",
    "        "
   ]
  },
  {
   "cell_type": "code",
   "execution_count": null,
   "metadata": {},
   "outputs": [],
   "source": [
    "vowel_links(\"a very large appliance\")"
   ]
  },
  {
   "cell_type": "code",
   "execution_count": null,
   "metadata": {},
   "outputs": [],
   "source": [
    "#2a)\n",
    "def first_before_second(string, char1,char2):\n",
    "    flag = 0\n",
    "    for i in string:\n",
    "        if i == char2:\n",
    "            flag = 1\n",
    "         \n",
    "        if flag==1:\n",
    "            if i == char1:\n",
    "                return False\n",
    "    \n",
    "    return True\n",
    "\n",
    "            "
   ]
  },
  {
   "cell_type": "code",
   "execution_count": null,
   "metadata": {},
   "outputs": [],
   "source": [
    "first_before_second(\"a rabbit jumps joyfully\", \"a\", \"j\") "
   ]
  },
  {
   "cell_type": "code",
   "execution_count": null,
   "metadata": {},
   "outputs": [],
   "source": [
    "#3a)\n",
    "def char_at_pos(mylist, string):\n",
    "    l = []\n",
    "    for i in range(len(mylist)):\n",
    "        if (i+1)%2==0 and string == \"even\":\n",
    "            l.append(mylist[i])\n",
    "        if (i+1)%2 ==1 and string == \"odd\":\n",
    "            l.append(mylist[i])\n",
    "     \n",
    "    return l\n",
    "            "
   ]
  },
  {
   "cell_type": "code",
   "execution_count": null,
   "metadata": {},
   "outputs": [],
   "source": [
    "char_at_pos([2, 4, 6, 8, 10], \"even\") "
   ]
  },
  {
   "cell_type": "code",
   "execution_count": 6,
   "metadata": {},
   "outputs": [],
   "source": [
    "#4a)\n",
    "import pdb\n",
    "\n",
    "\n",
    "def GCD(mylist):\n",
    "    #pdb.set_trace()\n",
    "    l = sorted(mylist)\n",
    "    flag = 0\n",
    "    y = 0\n",
    "    for i in range(1, l[0]+1):\n",
    "       for index, j in enumerate(mylist):\n",
    "            if j%i==0:\n",
    "                flag +=1\n",
    "                if flag == len(mylist):\n",
    "                    y = i\n",
    "            else:\n",
    "                flag = 0\n",
    "                break\n",
    "    return y        "
   ]
  },
  {
   "cell_type": "code",
   "execution_count": 8,
   "metadata": {},
   "outputs": [
    {
     "data": {
      "text/plain": [
       "64"
      ]
     },
     "execution_count": 8,
     "metadata": {},
     "output_type": "execute_result"
    }
   ],
   "source": [
    "GCD([1024, 192, 2048, 512]) "
   ]
  },
  {
   "cell_type": "code",
   "execution_count": 15,
   "metadata": {},
   "outputs": [],
   "source": [
    "#5a)\n",
    "def palindrome_type(num):\n",
    "    num_bin = bin(num)\n",
    "    num_bin = num_bin[2:]\n",
    "    rev_num = str(num)[::-1]\n",
    "    rev_bin = str(num_bin)[::-1]\n",
    "    if rev_bin== str(num_bin) and rev_num == str(num):\n",
    "        return \"decimal and binary\"\n",
    "    if rev_bin!= str(num_bin) and rev_num== str(num):\n",
    "        return \"decimal\"\n",
    "    if rev_bin== str(num_bin) and rev_num != str(num):\n",
    "        return \"binary\"\n",
    "    if rev_bin!= str(num_bin) and rev_num != str(num):\n",
    "        return \"NEITHER\""
   ]
  },
  {
   "cell_type": "code",
   "execution_count": 17,
   "metadata": {},
   "outputs": [
    {
     "data": {
      "text/plain": [
       "'NEITHER'"
      ]
     },
     "execution_count": 17,
     "metadata": {},
     "output_type": "execute_result"
    }
   ],
   "source": [
    "palindrome_type(934)"
   ]
  },
  {
   "cell_type": "code",
   "execution_count": null,
   "metadata": {},
   "outputs": [],
   "source": []
  }
 ],
 "metadata": {
  "kernelspec": {
   "display_name": "Python 3",
   "language": "python",
   "name": "python3"
  },
  "language_info": {
   "codemirror_mode": {
    "name": "ipython",
    "version": 3
   },
   "file_extension": ".py",
   "mimetype": "text/x-python",
   "name": "python",
   "nbconvert_exporter": "python",
   "pygments_lexer": "ipython3",
   "version": "3.8.3"
  }
 },
 "nbformat": 4,
 "nbformat_minor": 4
}
